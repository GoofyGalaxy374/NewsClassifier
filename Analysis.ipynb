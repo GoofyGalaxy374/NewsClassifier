{
 "cells": [
  {
   "cell_type": "markdown",
   "metadata": {},
   "source": [
    "<h1> Classifying news articles as business or political, based on their title </h1>\n",
    "\n",
    "<h3> The goal of this notebook is to explore how one could use Tf-Idf and/or cosine similarity to classify news articles as business or political articles.</h3>\n",
    "\n",
    "<p> The Notebook is structured in the following manner: </p>\n",
    "<ol>\n",
    "<li> Data Cleaning </li> \n",
    "<li> Data Analysis </li> \n",
    "<li> Model Building </li> \n",
    "<li> Model Experiments </li> \n",
    "</ol>"
   ]
  },
  {
   "cell_type": "markdown",
   "metadata": {},
   "source": [
    "<h1 style=\"text-align:center\"> Data cleaning </h1>"
   ]
  },
  {
   "cell_type": "markdown",
   "metadata": {},
   "source": [
    "<p>Before we begin, we have to import all of our needed libraries. </p>"
   ]
  },
  {
   "cell_type": "code",
   "execution_count": 20,
   "metadata": {},
   "outputs": [],
   "source": [
    "import numpy as np\n",
    "import pandas as pd\n",
    "import scipy as scp\n",
    "import sklearn as sk\n",
    "import matplotlib.pyplot as plt\n",
    "import nltk\n",
    "from nltk.corpus import stopwords\n",
    "from nltk.tokenize import word_tokenize\n",
    "from nltk.stem import WordNetLemmatizer\n",
    "from nltk.probability import FreqDist\n",
    "from collections import Counter\n",
    "import re\n",
    "import string\n",
    "import contractions\n"
   ]
  },
  {
   "cell_type": "markdown",
   "metadata": {},
   "source": [
    "<p>Now that we're ready, let's load the data.</p>"
   ]
  },
  {
   "cell_type": "code",
   "execution_count": 21,
   "metadata": {},
   "outputs": [
    {
     "data": {
      "text/html": [
       "<div>\n",
       "<style scoped>\n",
       "    .dataframe tbody tr th:only-of-type {\n",
       "        vertical-align: middle;\n",
       "    }\n",
       "\n",
       "    .dataframe tbody tr th {\n",
       "        vertical-align: top;\n",
       "    }\n",
       "\n",
       "    .dataframe thead th {\n",
       "        text-align: right;\n",
       "    }\n",
       "</style>\n",
       "<table border=\"1\" class=\"dataframe\">\n",
       "  <thead>\n",
       "    <tr style=\"text-align: right;\">\n",
       "      <th></th>\n",
       "      <th>Title</th>\n",
       "      <th>Category</th>\n",
       "      <th>Source</th>\n",
       "    </tr>\n",
       "  </thead>\n",
       "  <tbody>\n",
       "    <tr>\n",
       "      <th>0</th>\n",
       "      <td>As Democrats try to hold on in November, it’s ...</td>\n",
       "      <td>Politics</td>\n",
       "      <td>CNN</td>\n",
       "    </tr>\n",
       "    <tr>\n",
       "      <th>1</th>\n",
       "      <td>A Dizzying week for Trump’s legal issues</td>\n",
       "      <td>Politics</td>\n",
       "      <td>CNN</td>\n",
       "    </tr>\n",
       "    <tr>\n",
       "      <th>2</th>\n",
       "      <td>Nancy Pelosi did what Donald Trump failed to d...</td>\n",
       "      <td>Politics</td>\n",
       "      <td>CNN</td>\n",
       "    </tr>\n",
       "    <tr>\n",
       "      <th>3</th>\n",
       "      <td>Donald Trump told us all *exactly* what he was...</td>\n",
       "      <td>Politics</td>\n",
       "      <td>CNN</td>\n",
       "    </tr>\n",
       "    <tr>\n",
       "      <th>4</th>\n",
       "      <td>See why Republicans are trying to get you to f...</td>\n",
       "      <td>Politics</td>\n",
       "      <td>CNN</td>\n",
       "    </tr>\n",
       "  </tbody>\n",
       "</table>\n",
       "</div>"
      ],
      "text/plain": [
       "                                               Title  Category Source\n",
       "0  As Democrats try to hold on in November, it’s ...  Politics    CNN\n",
       "1           A Dizzying week for Trump’s legal issues  Politics    CNN\n",
       "2  Nancy Pelosi did what Donald Trump failed to d...  Politics    CNN\n",
       "3  Donald Trump told us all *exactly* what he was...  Politics    CNN\n",
       "4  See why Republicans are trying to get you to f...  Politics    CNN"
      ]
     },
     "execution_count": 21,
     "metadata": {},
     "output_type": "execute_result"
    }
   ],
   "source": [
    "newsDataset = pd.read_csv('./ArticleTitlesCategoryDataset.csv')\n",
    "newsDataset.head()"
   ]
  },
  {
   "cell_type": "markdown",
   "metadata": {},
   "source": [
    "<p>Alright, the dataset is loaded successfully, now let's clean the data a bit. We'll do the following: </p>\n",
    "<ol>\n",
    "    <li> Turn all the contraction words into proper words (don't -> do not, I'd -> I would). </li>\n",
    "    <li> Remove all the punctuation from the title. </li>\n",
    "    <li> Tokenize the title. </li>\n",
    "</ol>"
   ]
  },
  {
   "cell_type": "code",
   "execution_count": 22,
   "metadata": {},
   "outputs": [],
   "source": [
    "EnglishStopwords = set(stopwords.words('english'))\n",
    "\n",
    "Titles = newsDataset['Title']\n",
    "CleanedTitles = []\n",
    "Lemmatizer = WordNetLemmatizer()\n",
    "for title in Titles:\n",
    "    NoContractionsTitle = contractions.fix(title)\n",
    "    NoPunctuationTitle = NoContractionsTitle.translate(str.maketrans('','', string.punctuation)) \n",
    "    TokenizedTitle = word_tokenize(NoPunctuationTitle) \n",
    "    \n",
    "    cleanTitle = []\n",
    "    for word in TokenizedTitle:\n",
    "        if word not in EnglishStopwords:\n",
    "            LemmatizedVerb = Lemmatizer.lemmatize(word.lower(), pos='v')\n",
    "            LemmatizedNoun = Lemmatizer.lemmatize(LemmatizedVerb, pos='n')\n",
    "            if re.match('\\W+|\\d+', LemmatizedNoun) == None: \n",
    "                cleanTitle.append(LemmatizedNoun)\n",
    "                \n",
    "    cleanTitle = \" \".join(cleanTitle)\n",
    "    \n",
    "    CleanedTitles.append(cleanTitle)\n"
   ]
  },
  {
   "cell_type": "code",
   "execution_count": 23,
   "metadata": {},
   "outputs": [
    {
     "data": {
      "text/html": [
       "<div>\n",
       "<style scoped>\n",
       "    .dataframe tbody tr th:only-of-type {\n",
       "        vertical-align: middle;\n",
       "    }\n",
       "\n",
       "    .dataframe tbody tr th {\n",
       "        vertical-align: top;\n",
       "    }\n",
       "\n",
       "    .dataframe thead th {\n",
       "        text-align: right;\n",
       "    }\n",
       "</style>\n",
       "<table border=\"1\" class=\"dataframe\">\n",
       "  <thead>\n",
       "    <tr style=\"text-align: right;\">\n",
       "      <th></th>\n",
       "      <th>CleanTitle</th>\n",
       "      <th>Category</th>\n",
       "      <th>Source</th>\n",
       "    </tr>\n",
       "  </thead>\n",
       "  <tbody>\n",
       "    <tr>\n",
       "      <th>0</th>\n",
       "      <td>a democrat try hold november pete buttigieg de...</td>\n",
       "      <td>Politics</td>\n",
       "      <td>CNN</td>\n",
       "    </tr>\n",
       "    <tr>\n",
       "      <th>1</th>\n",
       "      <td>a dizzy week trump legal issue</td>\n",
       "      <td>Politics</td>\n",
       "      <td>CNN</td>\n",
       "    </tr>\n",
       "    <tr>\n",
       "      <th>2</th>\n",
       "      <td>nancy pelosi donald trump fail january</td>\n",
       "      <td>Politics</td>\n",
       "      <td>CNN</td>\n",
       "    </tr>\n",
       "    <tr>\n",
       "      <th>3</th>\n",
       "      <td>donald trump tell u exactly go november</td>\n",
       "      <td>Politics</td>\n",
       "      <td>CNN</td>\n",
       "    </tr>\n",
       "    <tr>\n",
       "      <th>4</th>\n",
       "      <td>see republican try get focus wokeness</td>\n",
       "      <td>Politics</td>\n",
       "      <td>CNN</td>\n",
       "    </tr>\n",
       "  </tbody>\n",
       "</table>\n",
       "</div>"
      ],
      "text/plain": [
       "                                          CleanTitle  Category Source\n",
       "0  a democrat try hold november pete buttigieg de...  Politics    CNN\n",
       "1                     a dizzy week trump legal issue  Politics    CNN\n",
       "2             nancy pelosi donald trump fail january  Politics    CNN\n",
       "3            donald trump tell u exactly go november  Politics    CNN\n",
       "4              see republican try get focus wokeness  Politics    CNN"
      ]
     },
     "execution_count": 23,
     "metadata": {},
     "output_type": "execute_result"
    }
   ],
   "source": [
    "CleanedDataset = pd.DataFrame(columns=['CleanTitle', 'Category', 'Source'])\n",
    "CleanedDataset['CleanTitle'] = CleanedTitles\n",
    "CleanedDataset['Category'] = newsDataset['Category']\n",
    "CleanedDataset['Source'] = newsDataset['Source']\n",
    "\n",
    "CleanedDataset.head(5)"
   ]
  },
  {
   "cell_type": "markdown",
   "metadata": {},
   "source": [
    "<p>Great ! We now have a clean titles dataset ! We can now proceed to the data analysis part!</p>"
   ]
  },
  {
   "cell_type": "markdown",
   "metadata": {},
   "source": [
    "<h1 style=\"text-align:center\"> Data Analysis </h1>"
   ]
  },
  {
   "cell_type": "markdown",
   "metadata": {},
   "source": [
    "<p>Let's find the most common words in the titles of political articles. </p>\n",
    "<p> First, we'll filter the data by the politics category. </p>"
   ]
  },
  {
   "cell_type": "code",
   "execution_count": 24,
   "metadata": {},
   "outputs": [
    {
     "data": {
      "text/html": [
       "<div>\n",
       "<style scoped>\n",
       "    .dataframe tbody tr th:only-of-type {\n",
       "        vertical-align: middle;\n",
       "    }\n",
       "\n",
       "    .dataframe tbody tr th {\n",
       "        vertical-align: top;\n",
       "    }\n",
       "\n",
       "    .dataframe thead th {\n",
       "        text-align: right;\n",
       "    }\n",
       "</style>\n",
       "<table border=\"1\" class=\"dataframe\">\n",
       "  <thead>\n",
       "    <tr style=\"text-align: right;\">\n",
       "      <th></th>\n",
       "      <th>CleanTitle</th>\n",
       "      <th>Category</th>\n",
       "      <th>Source</th>\n",
       "    </tr>\n",
       "  </thead>\n",
       "  <tbody>\n",
       "    <tr>\n",
       "      <th>0</th>\n",
       "      <td>a democrat try hold november pete buttigieg de...</td>\n",
       "      <td>Politics</td>\n",
       "      <td>CNN</td>\n",
       "    </tr>\n",
       "    <tr>\n",
       "      <th>1</th>\n",
       "      <td>a dizzy week trump legal issue</td>\n",
       "      <td>Politics</td>\n",
       "      <td>CNN</td>\n",
       "    </tr>\n",
       "    <tr>\n",
       "      <th>2</th>\n",
       "      <td>nancy pelosi donald trump fail january</td>\n",
       "      <td>Politics</td>\n",
       "      <td>CNN</td>\n",
       "    </tr>\n",
       "    <tr>\n",
       "      <th>3</th>\n",
       "      <td>donald trump tell u exactly go november</td>\n",
       "      <td>Politics</td>\n",
       "      <td>CNN</td>\n",
       "    </tr>\n",
       "    <tr>\n",
       "      <th>4</th>\n",
       "      <td>see republican try get focus wokeness</td>\n",
       "      <td>Politics</td>\n",
       "      <td>CNN</td>\n",
       "    </tr>\n",
       "  </tbody>\n",
       "</table>\n",
       "</div>"
      ],
      "text/plain": [
       "                                          CleanTitle  Category Source\n",
       "0  a democrat try hold november pete buttigieg de...  Politics    CNN\n",
       "1                     a dizzy week trump legal issue  Politics    CNN\n",
       "2             nancy pelosi donald trump fail january  Politics    CNN\n",
       "3            donald trump tell u exactly go november  Politics    CNN\n",
       "4              see republican try get focus wokeness  Politics    CNN"
      ]
     },
     "execution_count": 24,
     "metadata": {},
     "output_type": "execute_result"
    }
   ],
   "source": [
    "PoliticalArticles = CleanedDataset[CleanedDataset['Category'] == 'Politics']\n",
    "PoliticalArticles.head(5)"
   ]
  },
  {
   "cell_type": "markdown",
   "metadata": {},
   "source": [
    "<p>Now that we have the political articles only, we can proceed with the extraction of the most common words in the titles. </p>"
   ]
  },
  {
   "cell_type": "code",
   "execution_count": 25,
   "metadata": {},
   "outputs": [
    {
     "data": {
      "text/plain": [
       "[('trump', 10),\n",
       " ('senate', 5),\n",
       " ('say', 5),\n",
       " ('democrat', 4),\n",
       " ('campaign', 4),\n",
       " ('u', 4),\n",
       " ('republican', 4),\n",
       " ('control', 4),\n",
       " ('warn', 4),\n",
       " ('biden', 4)]"
      ]
     },
     "execution_count": 25,
     "metadata": {},
     "output_type": "execute_result"
    }
   ],
   "source": [
    "Titles = \"\".join(PoliticalArticles['CleanTitle'])\n",
    "TitlesTokenized = word_tokenize(Titles)\n",
    "fdist = FreqDist(TitlesTokenized)\n",
    "PoliticalMostCommonWords = fdist.most_common(10)\n",
    "PoliticalMostCommonWords"
   ]
  },
  {
   "cell_type": "markdown",
   "metadata": {},
   "source": [
    "<p>We see that \"trump\", \"senate\", \"say\", \"democrat\", and \"campaign\" are some of the most common words in the political articles' titles. We could interpret those as a political article indicator.  </p>"
   ]
  },
  {
   "cell_type": "markdown",
   "metadata": {},
   "source": [
    "<p> Let's do the same for the business articles! </p>"
   ]
  },
  {
   "cell_type": "code",
   "execution_count": 26,
   "metadata": {},
   "outputs": [
    {
     "data": {
      "text/html": [
       "<div>\n",
       "<style scoped>\n",
       "    .dataframe tbody tr th:only-of-type {\n",
       "        vertical-align: middle;\n",
       "    }\n",
       "\n",
       "    .dataframe tbody tr th {\n",
       "        vertical-align: top;\n",
       "    }\n",
       "\n",
       "    .dataframe thead th {\n",
       "        text-align: right;\n",
       "    }\n",
       "</style>\n",
       "<table border=\"1\" class=\"dataframe\">\n",
       "  <thead>\n",
       "    <tr style=\"text-align: right;\">\n",
       "      <th></th>\n",
       "      <th>CleanTitle</th>\n",
       "      <th>Category</th>\n",
       "      <th>Source</th>\n",
       "    </tr>\n",
       "  </thead>\n",
       "  <tbody>\n",
       "    <tr>\n",
       "      <th>59</th>\n",
       "      <td>trevor milton founder nikola find guilty fraud</td>\n",
       "      <td>Business</td>\n",
       "      <td>CNN</td>\n",
       "    </tr>\n",
       "    <tr>\n",
       "      <th>60</th>\n",
       "      <td>more french gas station least one fuel</td>\n",
       "      <td>Business</td>\n",
       "      <td>CNN</td>\n",
       "    </tr>\n",
       "    <tr>\n",
       "      <th>61</th>\n",
       "      <td>these retail chain may survive recession</td>\n",
       "      <td>Business</td>\n",
       "      <td>CNN</td>\n",
       "    </tr>\n",
       "    <tr>\n",
       "      <th>62</th>\n",
       "      <td>it scary time hollywood but horror studio behi...</td>\n",
       "      <td>Business</td>\n",
       "      <td>CNN</td>\n",
       "    </tr>\n",
       "    <tr>\n",
       "      <th>63</th>\n",
       "      <td>last chance lock nearly return save</td>\n",
       "      <td>Business</td>\n",
       "      <td>CNN</td>\n",
       "    </tr>\n",
       "  </tbody>\n",
       "</table>\n",
       "</div>"
      ],
      "text/plain": [
       "                                           CleanTitle  Category Source\n",
       "59     trevor milton founder nikola find guilty fraud  Business    CNN\n",
       "60             more french gas station least one fuel  Business    CNN\n",
       "61           these retail chain may survive recession  Business    CNN\n",
       "62  it scary time hollywood but horror studio behi...  Business    CNN\n",
       "63                last chance lock nearly return save  Business    CNN"
      ]
     },
     "execution_count": 26,
     "metadata": {},
     "output_type": "execute_result"
    }
   ],
   "source": [
    "BusinessArticles = CleanedDataset[CleanedDataset['Category'] == 'Business']\n",
    "BusinessArticles.head(5)"
   ]
  },
  {
   "cell_type": "code",
   "execution_count": 27,
   "metadata": {},
   "outputs": [
    {
     "data": {
      "text/plain": [
       "[('cut', 6),\n",
       " ('feed', 5),\n",
       " ('time', 4),\n",
       " ('warn', 4),\n",
       " ('go', 4),\n",
       " ('truss', 4),\n",
       " ('end', 3),\n",
       " ('lose', 3),\n",
       " ('largest', 3),\n",
       " ('first', 3)]"
      ]
     },
     "execution_count": 27,
     "metadata": {},
     "output_type": "execute_result"
    }
   ],
   "source": [
    "BusinessTitles = \"\".join(BusinessArticles['CleanTitle'])\n",
    "BusinessTitlesTokenized = word_tokenize(BusinessTitles)\n",
    "fdist = FreqDist(BusinessTitlesTokenized)\n",
    "BusinessMostCommonWords = fdist.most_common(10)\n",
    "BusinessMostCommonWords"
   ]
  },
  {
   "cell_type": "markdown",
   "metadata": {},
   "source": [
    "<p>Again, we see that \"cut\", \"feed\", \"time\", \"warn\", and \"go\" are some of the most common words in the business articles' titles. We could interpret those as a business article indicator.  </p>"
   ]
  },
  {
   "cell_type": "markdown",
   "metadata": {},
   "source": [
    "<h1 style=\"text-align:center\"> Model Building </h1>"
   ]
  },
  {
   "cell_type": "markdown",
   "metadata": {},
   "source": [
    "<p>What we could begin with is to find the most meaningful words in an article's title, using TF-IDF(term freuqnecy - document inverse frequency). </p>"
   ]
  },
  {
   "cell_type": "markdown",
   "metadata": {},
   "source": [
    "<p>The formula for the term frequency will tell us how frequent a certain term is in the article title that we're looking at. The formua is the following: </p> "
   ]
  },
  {
   "cell_type": "markdown",
   "metadata": {},
   "source": [
    "$ TF(t,d) = \\frac{t}{d} $, where $\\bold{t}$ is the occurence of the term we're looking for in a said article title, and $\\bold{d}$ is the amount of words in the target article title."
   ]
  },
  {
   "cell_type": "markdown",
   "metadata": {},
   "source": [
    "<p> The next thing we've got to do is lay out the formula for the Inverse-document frequency (IDF). It tells us how common(doesn't carry much meaning) or rare(it carries a lot of meaning/it's specific) a certain word is in a given article title. </p>"
   ]
  },
  {
   "cell_type": "markdown",
   "metadata": {},
   "source": [
    "$ IDF(n,d) = \\log(\\frac{n}{d})$, where $\\bold{n}$ is the amount of articles and $\\bold{d}$ is the amount of times the term is seen across all article titles.  "
   ]
  },
  {
   "cell_type": "markdown",
   "metadata": {},
   "source": [
    "<p>The way we'll get a quantifier as to how relevant a certain word is to a certain article title is to use both TF and IDF together. We'll multiply them, that way we'll have a formula that looks like that: </p.>"
   ]
  },
  {
   "cell_type": "markdown",
   "metadata": {},
   "source": [
    "$ TF-IDF = TF(t,d) * IDF(n,d) = \\frac{t}{d} * \\log(\\frac{n}{d})$"
   ]
  },
  {
   "cell_type": "markdown",
   "metadata": {},
   "source": [
    "<p> The way we'll quantify if a word is relevant to the certain article title or not is the following:</p>\n",
    "<ol>\n",
    "<li>if TF-IDF returns a high number, then that will mean that the word is relevant and vice-versa.</li> \n",
    "<li>A low TF score would mean that the target term/word is not that frequent. On the other hand a high TF score would mean that the word is very frequent in a certain text/article. </li>\n",
    "<li> In the case of interpreting an IDF score, a low score would mean higher relevance of the word with respect to the given text/article titles, and a high score would indicate the opposite. </li>\n",
    "</ol> "
   ]
  },
  {
   "cell_type": "code",
   "execution_count": null,
   "metadata": {},
   "outputs": [],
   "source": []
  }
 ],
 "metadata": {
  "kernelspec": {
   "display_name": "Python 3.9.5 64-bit",
   "language": "python",
   "name": "python3"
  },
  "language_info": {
   "codemirror_mode": {
    "name": "ipython",
    "version": 3
   },
   "file_extension": ".py",
   "mimetype": "text/x-python",
   "name": "python",
   "nbconvert_exporter": "python",
   "pygments_lexer": "ipython3",
   "version": "3.9.5"
  },
  "orig_nbformat": 4,
  "vscode": {
   "interpreter": {
    "hash": "916dbcbb3f70747c44a77c7bcd40155683ae19c65e1c03b4aa3499c5328201f1"
   }
  }
 },
 "nbformat": 4,
 "nbformat_minor": 2
}
