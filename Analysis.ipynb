{
 "cells": [
  {
   "cell_type": "markdown",
   "metadata": {},
   "source": [
    "<h1> Classifying news articles as business or political, based on their title </h1>\n",
    "\n",
    "<h3> The goal of this notebook is to explore how one could use Tf-Idf and/or cosine similarity to classify news articles as business or political articles.</h3>\n",
    "\n",
    "<p> The Notebook is structured in the following manner: </p>\n",
    "<ol>\n",
    "<li> Data Cleaning </li> \n",
    "<li> Data Analysis </li> \n",
    "<li> Model Building </li> \n",
    "<li> Model Experiments </li> \n",
    "</ol>"
   ]
  },
  {
   "cell_type": "markdown",
   "metadata": {},
   "source": [
    "<h1 style=\"text-align:center\"> Data cleaning </h1>"
   ]
  },
  {
   "cell_type": "markdown",
   "metadata": {},
   "source": [
    "<p>Before we begin, we have to import all of our needed libraries. </p>"
   ]
  },
  {
   "cell_type": "code",
   "execution_count": 118,
   "metadata": {},
   "outputs": [],
   "source": [
    "import numpy as np\n",
    "import pandas as pd\n",
    "import scipy as scp\n",
    "import sklearn as sk\n",
    "import matplotlib.pyplot as plt\n",
    "import nltk\n",
    "from nltk.corpus import stopwords\n",
    "from nltk.tokenize import word_tokenize\n",
    "from nltk.stem import WordNetLemmatizer\n",
    "from nltk.probability import FreqDist\n",
    "from collections import Counter\n",
    "import re\n",
    "import string\n",
    "import contractions\n"
   ]
  },
  {
   "cell_type": "markdown",
   "metadata": {},
   "source": [
    "<p>Now that we're ready, let's load the data.</p>"
   ]
  },
  {
   "cell_type": "code",
   "execution_count": 119,
   "metadata": {},
   "outputs": [
    {
     "data": {
      "text/html": [
       "<div>\n",
       "<style scoped>\n",
       "    .dataframe tbody tr th:only-of-type {\n",
       "        vertical-align: middle;\n",
       "    }\n",
       "\n",
       "    .dataframe tbody tr th {\n",
       "        vertical-align: top;\n",
       "    }\n",
       "\n",
       "    .dataframe thead th {\n",
       "        text-align: right;\n",
       "    }\n",
       "</style>\n",
       "<table border=\"1\" class=\"dataframe\">\n",
       "  <thead>\n",
       "    <tr style=\"text-align: right;\">\n",
       "      <th></th>\n",
       "      <th>Title</th>\n",
       "      <th>Category</th>\n",
       "      <th>Source</th>\n",
       "    </tr>\n",
       "  </thead>\n",
       "  <tbody>\n",
       "    <tr>\n",
       "      <th>0</th>\n",
       "      <td>As Democrats try to hold on in November, it’s ...</td>\n",
       "      <td>Politics</td>\n",
       "      <td>CNN</td>\n",
       "    </tr>\n",
       "    <tr>\n",
       "      <th>1</th>\n",
       "      <td>A Dizzying week for Trump’s legal issues</td>\n",
       "      <td>Politics</td>\n",
       "      <td>CNN</td>\n",
       "    </tr>\n",
       "    <tr>\n",
       "      <th>2</th>\n",
       "      <td>Nancy Pelosi did what Donald Trump failed to d...</td>\n",
       "      <td>Politics</td>\n",
       "      <td>CNN</td>\n",
       "    </tr>\n",
       "    <tr>\n",
       "      <th>3</th>\n",
       "      <td>Donald Trump told us all *exactly* what he was...</td>\n",
       "      <td>Politics</td>\n",
       "      <td>CNN</td>\n",
       "    </tr>\n",
       "    <tr>\n",
       "      <th>4</th>\n",
       "      <td>See why Republicans are trying to get you to f...</td>\n",
       "      <td>Politics</td>\n",
       "      <td>CNN</td>\n",
       "    </tr>\n",
       "  </tbody>\n",
       "</table>\n",
       "</div>"
      ],
      "text/plain": [
       "                                               Title  Category Source\n",
       "0  As Democrats try to hold on in November, it’s ...  Politics    CNN\n",
       "1           A Dizzying week for Trump’s legal issues  Politics    CNN\n",
       "2  Nancy Pelosi did what Donald Trump failed to d...  Politics    CNN\n",
       "3  Donald Trump told us all *exactly* what he was...  Politics    CNN\n",
       "4  See why Republicans are trying to get you to f...  Politics    CNN"
      ]
     },
     "execution_count": 119,
     "metadata": {},
     "output_type": "execute_result"
    }
   ],
   "source": [
    "newsDataset = pd.read_csv('./ArticleTitlesCategoryDataset.csv')\n",
    "newsDataset.head()"
   ]
  },
  {
   "cell_type": "markdown",
   "metadata": {},
   "source": [
    "<p>Alright, the dataset is loaded successfully, now let's clean the data a bit. We'll do the following: </p>\n",
    "<ol>\n",
    "    <li> Turn all the contraction words into proper words (don't -> do not, I'd -> I would). </li>\n",
    "    <li> Remove all the punctuation from the title. </li>\n",
    "    <li> Tokenize the title. </li>\n",
    "</ol>"
   ]
  },
  {
   "cell_type": "code",
   "execution_count": 120,
   "metadata": {},
   "outputs": [],
   "source": [
    "EnglishStopwords = set(stopwords.words('english'))\n",
    "\n",
    "Titles = newsDataset['Title']\n",
    "CleanedTitles = []\n",
    "Lemmatizer = WordNetLemmatizer()\n",
    "for title in Titles:\n",
    "    NoContractionsTitle = contractions.fix(title)\n",
    "    NoPunctuationTitle = NoContractionsTitle.translate(str.maketrans('','', string.punctuation)) \n",
    "    TokenizedTitle = word_tokenize(NoPunctuationTitle) \n",
    "    \n",
    "    cleanTitle = []\n",
    "    for word in TokenizedTitle:\n",
    "        if word not in EnglishStopwords:\n",
    "            LemmatizedVerb = Lemmatizer.lemmatize(word.lower(), pos='v')\n",
    "            LemmatizedNoun = Lemmatizer.lemmatize(LemmatizedVerb, pos='n')\n",
    "            cleanTitle.append(LemmatizedNoun)\n",
    "    cleanTitle = \" \".join(cleanTitle)\n",
    "    \n",
    "    CleanedTitles.append(cleanTitle)\n"
   ]
  },
  {
   "cell_type": "code",
   "execution_count": 121,
   "metadata": {},
   "outputs": [
    {
     "data": {
      "text/html": [
       "<div>\n",
       "<style scoped>\n",
       "    .dataframe tbody tr th:only-of-type {\n",
       "        vertical-align: middle;\n",
       "    }\n",
       "\n",
       "    .dataframe tbody tr th {\n",
       "        vertical-align: top;\n",
       "    }\n",
       "\n",
       "    .dataframe thead th {\n",
       "        text-align: right;\n",
       "    }\n",
       "</style>\n",
       "<table border=\"1\" class=\"dataframe\">\n",
       "  <thead>\n",
       "    <tr style=\"text-align: right;\">\n",
       "      <th></th>\n",
       "      <th>CleanTitle</th>\n",
       "      <th>Category</th>\n",
       "      <th>Source</th>\n",
       "    </tr>\n",
       "  </thead>\n",
       "  <tbody>\n",
       "    <tr>\n",
       "      <th>0</th>\n",
       "      <td>a democrat try hold november pete buttigieg de...</td>\n",
       "      <td>Politics</td>\n",
       "      <td>CNN</td>\n",
       "    </tr>\n",
       "    <tr>\n",
       "      <th>1</th>\n",
       "      <td>a dizzy week trump ’ legal issue</td>\n",
       "      <td>Politics</td>\n",
       "      <td>CNN</td>\n",
       "    </tr>\n",
       "    <tr>\n",
       "      <th>2</th>\n",
       "      <td>nancy pelosi donald trump fail january 6</td>\n",
       "      <td>Politics</td>\n",
       "      <td>CNN</td>\n",
       "    </tr>\n",
       "    <tr>\n",
       "      <th>3</th>\n",
       "      <td>donald trump tell u exactly go november 2020</td>\n",
       "      <td>Politics</td>\n",
       "      <td>CNN</td>\n",
       "    </tr>\n",
       "    <tr>\n",
       "      <th>4</th>\n",
       "      <td>see republican try get focus wokeness</td>\n",
       "      <td>Politics</td>\n",
       "      <td>CNN</td>\n",
       "    </tr>\n",
       "  </tbody>\n",
       "</table>\n",
       "</div>"
      ],
      "text/plain": [
       "                                          CleanTitle  Category Source\n",
       "0  a democrat try hold november pete buttigieg de...  Politics    CNN\n",
       "1                   a dizzy week trump ’ legal issue  Politics    CNN\n",
       "2           nancy pelosi donald trump fail january 6  Politics    CNN\n",
       "3       donald trump tell u exactly go november 2020  Politics    CNN\n",
       "4              see republican try get focus wokeness  Politics    CNN"
      ]
     },
     "execution_count": 121,
     "metadata": {},
     "output_type": "execute_result"
    }
   ],
   "source": [
    "CleanedDataset = pd.DataFrame(columns=['CleanTitle', 'Category', 'Source'])\n",
    "CleanedDataset['CleanTitle'] = CleanedTitles\n",
    "CleanedDataset['Category'] = newsDataset['Category']\n",
    "CleanedDataset['Source'] = newsDataset['Source']\n",
    "\n",
    "CleanedDataset.head(5)"
   ]
  },
  {
   "cell_type": "markdown",
   "metadata": {},
   "source": [
    "<p>Great ! We now have a clean titles dataset ! We can now proceed to the data analysis part!</p>"
   ]
  },
  {
   "cell_type": "markdown",
   "metadata": {},
   "source": [
    "<h1 style=\"text-align:center\"> Data Analysis </h1>"
   ]
  },
  {
   "cell_type": "markdown",
   "metadata": {},
   "source": [
    "<p>Let's find the most common words in the titles of political articles. </p>\n",
    "<p> First, we'll filter the data by the politics category. </p>"
   ]
  },
  {
   "cell_type": "code",
   "execution_count": 122,
   "metadata": {},
   "outputs": [
    {
     "data": {
      "text/html": [
       "<div>\n",
       "<style scoped>\n",
       "    .dataframe tbody tr th:only-of-type {\n",
       "        vertical-align: middle;\n",
       "    }\n",
       "\n",
       "    .dataframe tbody tr th {\n",
       "        vertical-align: top;\n",
       "    }\n",
       "\n",
       "    .dataframe thead th {\n",
       "        text-align: right;\n",
       "    }\n",
       "</style>\n",
       "<table border=\"1\" class=\"dataframe\">\n",
       "  <thead>\n",
       "    <tr style=\"text-align: right;\">\n",
       "      <th></th>\n",
       "      <th>CleanTitle</th>\n",
       "      <th>Category</th>\n",
       "      <th>Source</th>\n",
       "    </tr>\n",
       "  </thead>\n",
       "  <tbody>\n",
       "    <tr>\n",
       "      <th>0</th>\n",
       "      <td>a democrat try hold november pete buttigieg de...</td>\n",
       "      <td>Politics</td>\n",
       "      <td>CNN</td>\n",
       "    </tr>\n",
       "    <tr>\n",
       "      <th>1</th>\n",
       "      <td>a dizzy week trump ’ legal issue</td>\n",
       "      <td>Politics</td>\n",
       "      <td>CNN</td>\n",
       "    </tr>\n",
       "    <tr>\n",
       "      <th>2</th>\n",
       "      <td>nancy pelosi donald trump fail january 6</td>\n",
       "      <td>Politics</td>\n",
       "      <td>CNN</td>\n",
       "    </tr>\n",
       "    <tr>\n",
       "      <th>3</th>\n",
       "      <td>donald trump tell u exactly go november 2020</td>\n",
       "      <td>Politics</td>\n",
       "      <td>CNN</td>\n",
       "    </tr>\n",
       "    <tr>\n",
       "      <th>4</th>\n",
       "      <td>see republican try get focus wokeness</td>\n",
       "      <td>Politics</td>\n",
       "      <td>CNN</td>\n",
       "    </tr>\n",
       "  </tbody>\n",
       "</table>\n",
       "</div>"
      ],
      "text/plain": [
       "                                          CleanTitle  Category Source\n",
       "0  a democrat try hold november pete buttigieg de...  Politics    CNN\n",
       "1                   a dizzy week trump ’ legal issue  Politics    CNN\n",
       "2           nancy pelosi donald trump fail january 6  Politics    CNN\n",
       "3       donald trump tell u exactly go november 2020  Politics    CNN\n",
       "4              see republican try get focus wokeness  Politics    CNN"
      ]
     },
     "execution_count": 122,
     "metadata": {},
     "output_type": "execute_result"
    }
   ],
   "source": [
    "PoliticalArticles = CleanedDataset[CleanedDataset['Category'] == 'Politics']\n",
    "PoliticalArticles.head(5)"
   ]
  },
  {
   "cell_type": "markdown",
   "metadata": {},
   "source": [
    "<p>Now that we have the political articles only, we can proceed with the extraction of the most common words in the titles. </p>"
   ]
  },
  {
   "cell_type": "code",
   "execution_count": 143,
   "metadata": {},
   "outputs": [
    {
     "data": {
      "text/plain": [
       "[('trump', 10),\n",
       " ('’', 8),\n",
       " ('november', 5),\n",
       " ('senate', 5),\n",
       " ('‘', 5),\n",
       " ('say', 5),\n",
       " ('democrat', 4),\n",
       " ('campaign', 4),\n",
       " ('u', 4),\n",
       " ('republican', 4),\n",
       " ('control', 4),\n",
       " ('warn', 4),\n",
       " ('biden', 4),\n",
       " ('election', 4),\n",
       " ('6', 4),\n",
       " ('gop', 4),\n",
       " ('tory', 4),\n",
       " ('try', 3),\n",
       " ('week', 3),\n",
       " ('pelosi', 3),\n",
       " ('january', 3),\n",
       " ('know', 3),\n",
       " ('call', 3),\n",
       " ('georgia', 3),\n",
       " ('midterm', 3),\n",
       " ('ask', 3),\n",
       " ('voter', 3),\n",
       " ('state', 3),\n",
       " ('mp', 3),\n",
       " ('conservative', 3),\n",
       " ('2024', 3),\n",
       " ('dizzy', 2),\n",
       " ('tell', 2),\n",
       " ('go', 2),\n",
       " ('focus', 2),\n",
       " ('may', 2),\n",
       " ('win', 2),\n",
       " ('abortion', 2),\n",
       " ('right', 2),\n",
       " ('event', 2),\n",
       " ('michigan', 2),\n",
       " ('agent', 2),\n",
       " ('latino', 2),\n",
       " ('secretary', 2),\n",
       " ('ye', 2),\n",
       " ('oil', 2),\n",
       " ('oust', 2),\n",
       " ('interest', 2),\n",
       " ('liz', 2),\n",
       " ('truss', 2),\n",
       " ('pm', 2),\n",
       " ('without', 2),\n",
       " ('watch', 2),\n",
       " ('christie', 2),\n",
       " ('argue', 2),\n",
       " ('dominate', 2),\n",
       " ('rather', 2),\n",
       " ('principle', 2),\n",
       " ('dems', 2),\n",
       " ('put', 2),\n",
       " ('warnock', 2),\n",
       " ('take', 2),\n",
       " ('claim', 2),\n",
       " ('probe', 2),\n",
       " ('request', 2),\n",
       " ('migrant', 2),\n",
       " ('fbi', 2),\n",
       " ('investigate', 2),\n",
       " ('a', 1),\n",
       " ('hold', 1),\n",
       " ('pete', 1),\n",
       " ('buttigieg', 1),\n",
       " ('demand', 1),\n",
       " ('traila', 1),\n",
       " ('legal', 1),\n",
       " ('issuenancy', 1),\n",
       " ('donald', 1),\n",
       " ('fail', 1),\n",
       " ('6donald', 1),\n",
       " ('exactly', 1),\n",
       " ('2020see', 1),\n",
       " ('get', 1),\n",
       " ('wokenesswhy', 1),\n",
       " ('8liz', 1),\n",
       " ('cheney', 1),\n",
       " ('dire', 1),\n",
       " ('future', 1),\n",
       " ('electionpakistan', 1),\n",
       " ('summon', 1),\n",
       " ('ambassador', 1),\n",
       " ('country', 1),\n",
       " ('dangerous', 1),\n",
       " ('nuclear', 1),\n",
       " ('weaponkansa', 1),\n",
       " ('deliver', 1),\n",
       " ('surprise', 1),\n",
       " ('show', 1),\n",
       " ('whetherfirst', 1),\n",
       " ('cnn', 1),\n",
       " ('zero', 1)]"
      ]
     },
     "execution_count": 143,
     "metadata": {},
     "output_type": "execute_result"
    }
   ],
   "source": [
    "Titles = \"\".join(PoliticalArticles['CleanTitle'])\n",
    "TitlesTokenized = word_tokenize(Titles)\n",
    "fdist = FreqDist(TitlesTokenized)\n",
    "fdist.most_common(5)"
   ]
  }
 ],
 "metadata": {
  "kernelspec": {
   "display_name": "Python 3.9.5 64-bit",
   "language": "python",
   "name": "python3"
  },
  "language_info": {
   "codemirror_mode": {
    "name": "ipython",
    "version": 3
   },
   "file_extension": ".py",
   "mimetype": "text/x-python",
   "name": "python",
   "nbconvert_exporter": "python",
   "pygments_lexer": "ipython3",
   "version": "3.9.5"
  },
  "orig_nbformat": 4,
  "vscode": {
   "interpreter": {
    "hash": "916dbcbb3f70747c44a77c7bcd40155683ae19c65e1c03b4aa3499c5328201f1"
   }
  }
 },
 "nbformat": 4,
 "nbformat_minor": 2
}
