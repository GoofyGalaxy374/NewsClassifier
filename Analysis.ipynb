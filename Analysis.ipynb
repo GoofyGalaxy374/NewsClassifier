{
 "cells": [
  {
   "cell_type": "markdown",
   "metadata": {},
   "source": [
    "<h1> Classifying news articles as business or political, based on their title </h1>\n",
    "\n",
    "<h3> The goal of this notebook is to explore how one could use Tf-Idf and/or cosine similarity to classify news articles as business or political articles.</h3>\n",
    "\n",
    "<p> The Notebook is structured in the following manner: </p>\n",
    "<ol>\n",
    "<li> Data Cleaning </li> \n",
    "<li> Data Analysis </li> \n",
    "<li> Model Building </li> \n",
    "<li> Model Experiments </li> \n",
    "</ol>"
   ]
  },
  {
   "cell_type": "markdown",
   "metadata": {},
   "source": [
    "<h1 style=\"text-align:center\"> Data cleaning </h1>"
   ]
  }
 ],
 "metadata": {
  "language_info": {
   "name": "python"
  },
  "orig_nbformat": 4
 },
 "nbformat": 4,
 "nbformat_minor": 2
}
