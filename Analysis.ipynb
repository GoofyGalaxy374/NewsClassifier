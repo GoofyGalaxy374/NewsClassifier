{
 "cells": [
  {
   "cell_type": "markdown",
   "metadata": {},
   "source": [
    "<h1> Classifying news articles as business or political, based on their title </h1>\n",
    "\n",
    "<h3> The goal of this notebook is to explore how one could use Tf-Idf and/or cosine similarity to classify news articles as business or political articles.</h3>\n",
    "\n",
    "<p> The Notebook is structured in the following manner: </p>\n",
    "<ol>\n",
    "<li> Data Cleaning </li> \n",
    "<li> Data Analysis </li> \n",
    "<li> Model Building </li> \n",
    "<li> Model Experiments </li> \n",
    "</ol>"
   ]
  },
  {
   "cell_type": "markdown",
   "metadata": {},
   "source": [
    "<h1 style=\"text-align:center\"> Data cleaning </h1>"
   ]
  },
  {
   "cell_type": "markdown",
   "metadata": {},
   "source": [
    "<p>Before we begin, we have to import all of our needed libraries. </p>"
   ]
  },
  {
   "cell_type": "code",
   "execution_count": 2,
   "metadata": {},
   "outputs": [],
   "source": [
    "import numpy as np\n",
    "import pandas as pd\n",
    "import scipy as scp\n",
    "import sklearn as sk\n",
    "import matplotlib.pyplot as plt\n",
    "import nltk\n",
    "from nltk.corpus import stopwords\n",
    "from nltk.tokenize import word_tokenize\n",
    "from nltk.stem import WordNetLemmatizer\n",
    "from nltk.probability import FreqDist\n",
    "from collections import Counter\n",
    "import re\n",
    "import string\n",
    "import contractions\n"
   ]
  },
  {
   "cell_type": "markdown",
   "metadata": {},
   "source": [
    "<p>Now that we're ready, let's load the data.</p>"
   ]
  },
  {
   "cell_type": "code",
   "execution_count": 3,
   "metadata": {},
   "outputs": [
    {
     "data": {
      "text/html": [
       "<div>\n",
       "<style scoped>\n",
       "    .dataframe tbody tr th:only-of-type {\n",
       "        vertical-align: middle;\n",
       "    }\n",
       "\n",
       "    .dataframe tbody tr th {\n",
       "        vertical-align: top;\n",
       "    }\n",
       "\n",
       "    .dataframe thead th {\n",
       "        text-align: right;\n",
       "    }\n",
       "</style>\n",
       "<table border=\"1\" class=\"dataframe\">\n",
       "  <thead>\n",
       "    <tr style=\"text-align: right;\">\n",
       "      <th></th>\n",
       "      <th>Title</th>\n",
       "      <th>Category</th>\n",
       "      <th>Source</th>\n",
       "    </tr>\n",
       "  </thead>\n",
       "  <tbody>\n",
       "    <tr>\n",
       "      <th>0</th>\n",
       "      <td>As Democrats try to hold on in November, it’s ...</td>\n",
       "      <td>Politics</td>\n",
       "      <td>CNN</td>\n",
       "    </tr>\n",
       "    <tr>\n",
       "      <th>1</th>\n",
       "      <td>A Dizzying week for Trump’s legal issues</td>\n",
       "      <td>Politics</td>\n",
       "      <td>CNN</td>\n",
       "    </tr>\n",
       "    <tr>\n",
       "      <th>2</th>\n",
       "      <td>Nancy Pelosi did what Donald Trump failed to d...</td>\n",
       "      <td>Politics</td>\n",
       "      <td>CNN</td>\n",
       "    </tr>\n",
       "    <tr>\n",
       "      <th>3</th>\n",
       "      <td>Donald Trump told us all *exactly* what he was...</td>\n",
       "      <td>Politics</td>\n",
       "      <td>CNN</td>\n",
       "    </tr>\n",
       "    <tr>\n",
       "      <th>4</th>\n",
       "      <td>See why Republicans are trying to get you to f...</td>\n",
       "      <td>Politics</td>\n",
       "      <td>CNN</td>\n",
       "    </tr>\n",
       "  </tbody>\n",
       "</table>\n",
       "</div>"
      ],
      "text/plain": [
       "                                               Title  Category Source\n",
       "0  As Democrats try to hold on in November, it’s ...  Politics    CNN\n",
       "1           A Dizzying week for Trump’s legal issues  Politics    CNN\n",
       "2  Nancy Pelosi did what Donald Trump failed to d...  Politics    CNN\n",
       "3  Donald Trump told us all *exactly* what he was...  Politics    CNN\n",
       "4  See why Republicans are trying to get you to f...  Politics    CNN"
      ]
     },
     "execution_count": 3,
     "metadata": {},
     "output_type": "execute_result"
    }
   ],
   "source": [
    "newsDataset = pd.read_csv('./ArticleTitlesCategoryDataset.csv')\n",
    "newsDataset.head()"
   ]
  },
  {
   "cell_type": "markdown",
   "metadata": {},
   "source": [
    "<p>Alright, the dataset is loaded successfully, now let's clean the data a bit. We'll do the following: </p>\n",
    "<ol>\n",
    "    <li> Turn all the contraction words into proper words (don't -> do not, I'd -> I would). </li>\n",
    "    <li> Remove all the punctuation from the title. </li>\n",
    "    <li> Tokenize the title. </li>\n",
    "</ol>"
   ]
  },
  {
   "cell_type": "code",
   "execution_count": 17,
   "metadata": {},
   "outputs": [
    {
     "data": {
      "text/plain": [
       "['a democrat try hold november pete buttigieg demand campaign trail',\n",
       " 'a dizzy week trump legal issue',\n",
       " 'nancy pelosi donald trump fail january',\n",
       " 'donald trump tell u exactly go november',\n",
       " 'see republican try get focus wokeness',\n",
       " 'why may know control senate november',\n",
       " 'liz cheney dire warn future election',\n",
       " 'pakistan summon u ambassador biden call country dangerous nuclear weapon',\n",
       " 'kansa democrat deliver surprise win abortion right november show whether',\n",
       " 'first cnn biden zero abortion right dnc event week election day',\n",
       " 'five takeaway georgia senate debate',\n",
       " 'giuliani lawyer submit witness list upcoming dc attorney discipline hear',\n",
       " 'obama campaign michigan georgia final week midterm election',\n",
       " 'january panel ask secret service information contact agent oath keeper member',\n",
       " 'the latino voter shift come focus south texas',\n",
       " 'why may know control senate november',\n",
       " 'the central tension drive election',\n",
       " 'independent candidate upend oregon race governor give gop open',\n",
       " 'money flow election denier set scramble secretary state race',\n",
       " 'biden say january committee make overwhelm case',\n",
       " 'hear ye no see ye why supreme court afraid camera',\n",
       " 'biden big oil problem here need know recent opec decision',\n",
       " 'get speed fight control u senate',\n",
       " 'trump issue lengthy response january hear',\n",
       " 'jeremy hunt warn tory mp try oust pm',\n",
       " 'home secretary crack disruptive protest new bill',\n",
       " 'bank england chief warn fresh interest rate hike',\n",
       " 'a dizzy hour uk politics minute',\n",
       " 'many tory mp doomladen next',\n",
       " 'who charge liz truss jeremy hunt',\n",
       " 'what corporation tax pay',\n",
       " 'liz truss stop whisper pm wale office minister tell tory',\n",
       " 'independent scotland would apply rejoin european union sturgeon',\n",
       " 'senior tory mp tobias ellwood readmitted parliamentary party',\n",
       " 'nicola sturgeon urge tory oust lame duck pm liz truss',\n",
       " 'january hear recreate trump state mind riot without testimony former president top ally',\n",
       " 'cdc director sole parent meet school reopen guidance feature leftwing activist doc reveal',\n",
       " 'watch christie argue gop dominate trump rather conservative principle',\n",
       " 'watch christie argue gop dominate trump rather conservative principle',\n",
       " 'obama warn dems ob trump put basic interest back burner',\n",
       " 'paul ryan predict trump republican nominee',\n",
       " 'georgia senate debate warnock decline say biden run',\n",
       " 'biden say inflation go republican take control congress',\n",
       " 'obama take shoot cancel culture call dems buzzkills walk eggshell',\n",
       " 'mayorkas claim republican say border open music smuggler ear',\n",
       " 'republican call pelosi probe biden admins potentially illegal request saudi delay oil cut',\n",
       " 'obama jump midterm campaign event georgia michigan wisconsin',\n",
       " 'walker v warnock atlanta voter weigh hotly contest u senate race',\n",
       " 'florida spend nearly migrant flight delaware illinois postpone',\n",
       " 'democratic strategist respond conservative latino swing gop they like socialist',\n",
       " 'u poise slowdown highend munition delivery ukraine',\n",
       " 'dr oz support bidens federal marijuana pardon say send people jail pot wise move',\n",
       " 'lauren boebert spark feud aoc town hall heckle rip shred constituent',\n",
       " 'ro khanna put political consultant early primary state campaign payroll',\n",
       " 'arizona ag ask fbi irs investigate election integrity watchdog true vote',\n",
       " 'maralago probe doj ask circuit end special master review trump record seize fbi',\n",
       " 'texas sheriff declare migrant fly desantis marthas vineyard crime victim',\n",
       " 'watch voter react nancy pelosi claim democrat win midterm election without trump ballot',\n",
       " 'mueller team deny request fbi agent investigate democrat operative charles dolan tie kremlin',\n",
       " 'trevor milton founder nikola find guilty fraud',\n",
       " 'more french gas station least one fuel',\n",
       " 'these retail chain may survive recession',\n",
       " 'it scary time hollywood but horror studio behind hit like halloween end make kill',\n",
       " 'last chance lock nearly return save',\n",
       " 'royal mail warn job cut postal worker step strike',\n",
       " 'the feed lose war inflation',\n",
       " 'world largest academic endowment lose money first time since',\n",
       " 'two largest supermarket america merge',\n",
       " 'stock slide volatile trade session',\n",
       " 'tesla full selfdriving worth say many buy',\n",
       " 'tesla model y autopilot get highest grade european safety test',\n",
       " 'toyota invest billion build ev battery despite doubt',\n",
       " 'how california end zeroemissions driver seat',\n",
       " 'honda lg announce billion u battery factory ev',\n",
       " 'mukesh ambani prepare hand billion empire child',\n",
       " 'crypto superpower india young investor prefer bitcoin gold bore stock',\n",
       " 'india billionaire vaccine prince hold key end pandemic his plan go awry',\n",
       " 'india get next big thing tech could worth trillion',\n",
       " 'electric robot map seafloor earth last frontier',\n",
       " 'these apps try put car dealer business',\n",
       " 'how south african adhesive help get nasa apollo mission moon',\n",
       " 'mortgage rat take breather rise several week row',\n",
       " 'mortgage rat hit high',\n",
       " 'here make fortune most powerful woman business list',\n",
       " 'last chance lock nearly return save',\n",
       " 'worker second apple store vote join union',\n",
       " 'what old phone gadget ewaste',\n",
       " 'elon musk federal investigation twitter deal twitter claim',\n",
       " 'fcc could ban new purchase huawei zte telecom gear']"
      ]
     },
     "execution_count": 17,
     "metadata": {},
     "output_type": "execute_result"
    }
   ],
   "source": [
    "EnglishStopwords = set(stopwords.words('english'))\n",
    "\n",
    "Titles = newsDataset['Title']\n",
    "CleanedTitles = []\n",
    "Lemmatizer = WordNetLemmatizer()\n",
    "for title in Titles:\n",
    "    NoContractionsTitle = contractions.fix(title)\n",
    "    NoPunctuationTitle = NoContractionsTitle.translate(str.maketrans('','', string.punctuation)) \n",
    "    TokenizedTitle = word_tokenize(NoPunctuationTitle) \n",
    "    \n",
    "    cleanTitle = []\n",
    "    for word in TokenizedTitle:\n",
    "        if word not in EnglishStopwords:\n",
    "            LemmatizedVerb = Lemmatizer.lemmatize(word.lower(), pos='v')\n",
    "            LemmatizedNoun = Lemmatizer.lemmatize(LemmatizedVerb, pos='n')\n",
    "            if re.match('\\W+|\\d+', LemmatizedNoun) == None: \n",
    "                cleanTitle.append(LemmatizedNoun)\n",
    "                \n",
    "    cleanTitle = \" \".join(cleanTitle)\n",
    "    \n",
    "    CleanedTitles.append(cleanTitle)\n"
   ]
  },
  {
   "cell_type": "code",
   "execution_count": 5,
   "metadata": {},
   "outputs": [
    {
     "data": {
      "text/html": [
       "<div>\n",
       "<style scoped>\n",
       "    .dataframe tbody tr th:only-of-type {\n",
       "        vertical-align: middle;\n",
       "    }\n",
       "\n",
       "    .dataframe tbody tr th {\n",
       "        vertical-align: top;\n",
       "    }\n",
       "\n",
       "    .dataframe thead th {\n",
       "        text-align: right;\n",
       "    }\n",
       "</style>\n",
       "<table border=\"1\" class=\"dataframe\">\n",
       "  <thead>\n",
       "    <tr style=\"text-align: right;\">\n",
       "      <th></th>\n",
       "      <th>CleanTitle</th>\n",
       "      <th>Category</th>\n",
       "      <th>Source</th>\n",
       "    </tr>\n",
       "  </thead>\n",
       "  <tbody>\n",
       "    <tr>\n",
       "      <th>0</th>\n",
       "      <td>a democrat try hold november pete buttigieg de...</td>\n",
       "      <td>Politics</td>\n",
       "      <td>CNN</td>\n",
       "    </tr>\n",
       "    <tr>\n",
       "      <th>1</th>\n",
       "      <td>a dizzy week trump ’ legal issue</td>\n",
       "      <td>Politics</td>\n",
       "      <td>CNN</td>\n",
       "    </tr>\n",
       "    <tr>\n",
       "      <th>2</th>\n",
       "      <td>nancy pelosi donald trump fail january 6</td>\n",
       "      <td>Politics</td>\n",
       "      <td>CNN</td>\n",
       "    </tr>\n",
       "    <tr>\n",
       "      <th>3</th>\n",
       "      <td>donald trump tell u exactly go november 2020</td>\n",
       "      <td>Politics</td>\n",
       "      <td>CNN</td>\n",
       "    </tr>\n",
       "    <tr>\n",
       "      <th>4</th>\n",
       "      <td>see republican try get focus wokeness</td>\n",
       "      <td>Politics</td>\n",
       "      <td>CNN</td>\n",
       "    </tr>\n",
       "  </tbody>\n",
       "</table>\n",
       "</div>"
      ],
      "text/plain": [
       "                                          CleanTitle  Category Source\n",
       "0  a democrat try hold november pete buttigieg de...  Politics    CNN\n",
       "1                   a dizzy week trump ’ legal issue  Politics    CNN\n",
       "2           nancy pelosi donald trump fail january 6  Politics    CNN\n",
       "3       donald trump tell u exactly go november 2020  Politics    CNN\n",
       "4              see republican try get focus wokeness  Politics    CNN"
      ]
     },
     "execution_count": 5,
     "metadata": {},
     "output_type": "execute_result"
    }
   ],
   "source": [
    "CleanedDataset = pd.DataFrame(columns=['CleanTitle', 'Category', 'Source'])\n",
    "CleanedDataset['CleanTitle'] = CleanedTitles\n",
    "CleanedDataset['Category'] = newsDataset['Category']\n",
    "CleanedDataset['Source'] = newsDataset['Source']\n",
    "\n",
    "CleanedDataset.head(5)"
   ]
  },
  {
   "cell_type": "markdown",
   "metadata": {},
   "source": [
    "<p>Great ! We now have a clean titles dataset ! We can now proceed to the data analysis part!</p>"
   ]
  },
  {
   "cell_type": "markdown",
   "metadata": {},
   "source": [
    "<h1 style=\"text-align:center\"> Data Analysis </h1>"
   ]
  },
  {
   "cell_type": "markdown",
   "metadata": {},
   "source": [
    "<p>Let's find the most common words in the titles of political articles. </p>\n",
    "<p> First, we'll filter the data by the politics category. </p>"
   ]
  },
  {
   "cell_type": "code",
   "execution_count": 6,
   "metadata": {},
   "outputs": [
    {
     "data": {
      "text/html": [
       "<div>\n",
       "<style scoped>\n",
       "    .dataframe tbody tr th:only-of-type {\n",
       "        vertical-align: middle;\n",
       "    }\n",
       "\n",
       "    .dataframe tbody tr th {\n",
       "        vertical-align: top;\n",
       "    }\n",
       "\n",
       "    .dataframe thead th {\n",
       "        text-align: right;\n",
       "    }\n",
       "</style>\n",
       "<table border=\"1\" class=\"dataframe\">\n",
       "  <thead>\n",
       "    <tr style=\"text-align: right;\">\n",
       "      <th></th>\n",
       "      <th>CleanTitle</th>\n",
       "      <th>Category</th>\n",
       "      <th>Source</th>\n",
       "    </tr>\n",
       "  </thead>\n",
       "  <tbody>\n",
       "    <tr>\n",
       "      <th>0</th>\n",
       "      <td>a democrat try hold november pete buttigieg de...</td>\n",
       "      <td>Politics</td>\n",
       "      <td>CNN</td>\n",
       "    </tr>\n",
       "    <tr>\n",
       "      <th>1</th>\n",
       "      <td>a dizzy week trump ’ legal issue</td>\n",
       "      <td>Politics</td>\n",
       "      <td>CNN</td>\n",
       "    </tr>\n",
       "    <tr>\n",
       "      <th>2</th>\n",
       "      <td>nancy pelosi donald trump fail january 6</td>\n",
       "      <td>Politics</td>\n",
       "      <td>CNN</td>\n",
       "    </tr>\n",
       "    <tr>\n",
       "      <th>3</th>\n",
       "      <td>donald trump tell u exactly go november 2020</td>\n",
       "      <td>Politics</td>\n",
       "      <td>CNN</td>\n",
       "    </tr>\n",
       "    <tr>\n",
       "      <th>4</th>\n",
       "      <td>see republican try get focus wokeness</td>\n",
       "      <td>Politics</td>\n",
       "      <td>CNN</td>\n",
       "    </tr>\n",
       "  </tbody>\n",
       "</table>\n",
       "</div>"
      ],
      "text/plain": [
       "                                          CleanTitle  Category Source\n",
       "0  a democrat try hold november pete buttigieg de...  Politics    CNN\n",
       "1                   a dizzy week trump ’ legal issue  Politics    CNN\n",
       "2           nancy pelosi donald trump fail january 6  Politics    CNN\n",
       "3       donald trump tell u exactly go november 2020  Politics    CNN\n",
       "4              see republican try get focus wokeness  Politics    CNN"
      ]
     },
     "execution_count": 6,
     "metadata": {},
     "output_type": "execute_result"
    }
   ],
   "source": [
    "PoliticalArticles = CleanedDataset[CleanedDataset['Category'] == 'Politics']\n",
    "PoliticalArticles.head(5)"
   ]
  },
  {
   "cell_type": "markdown",
   "metadata": {},
   "source": [
    "<p>Now that we have the political articles only, we can proceed with the extraction of the most common words in the titles. </p>"
   ]
  },
  {
   "cell_type": "code",
   "execution_count": 9,
   "metadata": {},
   "outputs": [
    {
     "data": {
      "text/plain": [
       "[('trump', 10),\n",
       " ('’', 8),\n",
       " ('november', 5),\n",
       " ('senate', 5),\n",
       " ('‘', 5),\n",
       " ('say', 5),\n",
       " ('democrat', 4),\n",
       " ('campaign', 4),\n",
       " ('u', 4),\n",
       " ('republican', 4),\n",
       " ('control', 4),\n",
       " ('warn', 4),\n",
       " ('biden', 4),\n",
       " ('election', 4),\n",
       " ('6', 4),\n",
       " ('gop', 4),\n",
       " ('tory', 4),\n",
       " ('try', 3),\n",
       " ('week', 3),\n",
       " ('pelosi', 3)]"
      ]
     },
     "execution_count": 9,
     "metadata": {},
     "output_type": "execute_result"
    }
   ],
   "source": [
    "Titles = \"\".join(PoliticalArticles['CleanTitle'])\n",
    "TitlesTokenized = word_tokenize(Titles)\n",
    "fdist = FreqDist(TitlesTokenized)\n",
    "fdist.most_common(20)"
   ]
  },
  {
   "cell_type": "markdown",
   "metadata": {},
   "source": [
    "<p>We see that \"trump\", \"november\", and \"senate\" are the most common words in the political articles' titles. In fact we could see that the most distinct political words longer than 3 letters are mentioned at least 4 times, so everything that fits those criteria we could interpret as a political article indicator.  </p>"
   ]
  },
  {
   "cell_type": "markdown",
   "metadata": {},
   "source": [
    "<p> Let's do the same for the business articles! </p>"
   ]
  },
  {
   "cell_type": "code",
   "execution_count": 10,
   "metadata": {},
   "outputs": [
    {
     "data": {
      "text/html": [
       "<div>\n",
       "<style scoped>\n",
       "    .dataframe tbody tr th:only-of-type {\n",
       "        vertical-align: middle;\n",
       "    }\n",
       "\n",
       "    .dataframe tbody tr th {\n",
       "        vertical-align: top;\n",
       "    }\n",
       "\n",
       "    .dataframe thead th {\n",
       "        text-align: right;\n",
       "    }\n",
       "</style>\n",
       "<table border=\"1\" class=\"dataframe\">\n",
       "  <thead>\n",
       "    <tr style=\"text-align: right;\">\n",
       "      <th></th>\n",
       "      <th>CleanTitle</th>\n",
       "      <th>Category</th>\n",
       "      <th>Source</th>\n",
       "    </tr>\n",
       "  </thead>\n",
       "  <tbody>\n",
       "    <tr>\n",
       "      <th>59</th>\n",
       "      <td>trevor milton founder nikola find guilty fraud</td>\n",
       "      <td>Business</td>\n",
       "      <td>CNN</td>\n",
       "    </tr>\n",
       "    <tr>\n",
       "      <th>60</th>\n",
       "      <td>more 1 4 french gas station least one fuel</td>\n",
       "      <td>Business</td>\n",
       "      <td>CNN</td>\n",
       "    </tr>\n",
       "    <tr>\n",
       "      <th>61</th>\n",
       "      <td>these retail chain may survive recession</td>\n",
       "      <td>Business</td>\n",
       "      <td>CNN</td>\n",
       "    </tr>\n",
       "    <tr>\n",
       "      <th>62</th>\n",
       "      <td>it scary time hollywood but horror studio behi...</td>\n",
       "      <td>Business</td>\n",
       "      <td>CNN</td>\n",
       "    </tr>\n",
       "    <tr>\n",
       "      <th>63</th>\n",
       "      <td>last chance lock nearly 10 return save</td>\n",
       "      <td>Business</td>\n",
       "      <td>CNN</td>\n",
       "    </tr>\n",
       "  </tbody>\n",
       "</table>\n",
       "</div>"
      ],
      "text/plain": [
       "                                           CleanTitle  Category Source\n",
       "59     trevor milton founder nikola find guilty fraud  Business    CNN\n",
       "60         more 1 4 french gas station least one fuel  Business    CNN\n",
       "61           these retail chain may survive recession  Business    CNN\n",
       "62  it scary time hollywood but horror studio behi...  Business    CNN\n",
       "63             last chance lock nearly 10 return save  Business    CNN"
      ]
     },
     "execution_count": 10,
     "metadata": {},
     "output_type": "execute_result"
    }
   ],
   "source": [
    "BusinessArticles = CleanedDataset[CleanedDataset['Category'] == 'Business']\n",
    "BusinessArticles.head(5)"
   ]
  },
  {
   "cell_type": "code",
   "execution_count": 11,
   "metadata": {},
   "outputs": [
    {
     "data": {
      "text/plain": [
       "[('’', 13),\n",
       " ('‘', 4),\n",
       " ('end', 3),\n",
       " ('get', 3),\n",
       " ('billion', 3),\n",
       " ('1', 2),\n",
       " ('time', 2),\n",
       " ('hit', 2),\n",
       " ('make', 2),\n",
       " ('chance', 2),\n",
       " ('lock', 2),\n",
       " ('nearly', 2),\n",
       " ('10', 2),\n",
       " ('return', 2),\n",
       " ('lose', 2),\n",
       " ('largest', 2),\n",
       " ('worth', 2),\n",
       " ('battery', 2),\n",
       " ('could', 2),\n",
       " ('rat', 2)]"
      ]
     },
     "execution_count": 11,
     "metadata": {},
     "output_type": "execute_result"
    }
   ],
   "source": [
    "BusinessTitles = \"\".join(BusinessArticles['CleanTitle'])\n",
    "BusinessTitlesTokenized = word_tokenize(BusinessTitles)\n",
    "fdist = FreqDist(BusinessTitlesTokenized)\n",
    "fdist.most_common(20)"
   ]
  }
 ],
 "metadata": {
  "kernelspec": {
   "display_name": "Python 3.9.5 64-bit",
   "language": "python",
   "name": "python3"
  },
  "language_info": {
   "codemirror_mode": {
    "name": "ipython",
    "version": 3
   },
   "file_extension": ".py",
   "mimetype": "text/x-python",
   "name": "python",
   "nbconvert_exporter": "python",
   "pygments_lexer": "ipython3",
   "version": "3.9.5"
  },
  "orig_nbformat": 4,
  "vscode": {
   "interpreter": {
    "hash": "916dbcbb3f70747c44a77c7bcd40155683ae19c65e1c03b4aa3499c5328201f1"
   }
  }
 },
 "nbformat": 4,
 "nbformat_minor": 2
}
