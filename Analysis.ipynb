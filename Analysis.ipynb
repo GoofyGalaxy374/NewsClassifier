{
 "cells": [
  {
   "cell_type": "markdown",
   "metadata": {},
   "source": [
    "<h1> Classifying news articles as business or political, based on their title </h1>\n",
    "\n",
    "<h3> The goal of this notebook is to explore how one could use Tf-Idf and/or cosine similarity to classify news articles as business or political articles.</h3>\n",
    "\n",
    "<p> The Notebook is structured in the following manner: </p>\n",
    "<ol>\n",
    "<li> Data Cleaning </li> \n",
    "<li> Data Analysis </li> \n",
    "<li> Model Building </li> \n",
    "<li> Model Experiments </li> \n",
    "</ol>"
   ]
  },
  {
   "cell_type": "markdown",
   "metadata": {},
   "source": [
    "<h1 style=\"text-align:center\"> Data cleaning </h1>"
   ]
  },
  {
   "cell_type": "markdown",
   "metadata": {},
   "source": [
    "<p>Before we begin, we have to import all of our needed libraries. </p>"
   ]
  },
  {
   "cell_type": "code",
   "execution_count": 245,
   "metadata": {},
   "outputs": [],
   "source": [
    "import numpy as np\n",
    "import pandas as pd\n",
    "import scipy as scp\n",
    "import sklearn as sk\n",
    "import matplotlib.pyplot as plt\n",
    "import nltk\n",
    "from nltk.corpus import stopwords\n",
    "from nltk.tokenize import word_tokenize\n",
    "import re\n",
    "import string\n",
    "import contractions\n"
   ]
  },
  {
   "cell_type": "markdown",
   "metadata": {},
   "source": [
    "<p>Now that we're ready, let's load the data.</p>"
   ]
  },
  {
   "cell_type": "code",
   "execution_count": 129,
   "metadata": {},
   "outputs": [
    {
     "data": {
      "text/html": [
       "<div>\n",
       "<style scoped>\n",
       "    .dataframe tbody tr th:only-of-type {\n",
       "        vertical-align: middle;\n",
       "    }\n",
       "\n",
       "    .dataframe tbody tr th {\n",
       "        vertical-align: top;\n",
       "    }\n",
       "\n",
       "    .dataframe thead th {\n",
       "        text-align: right;\n",
       "    }\n",
       "</style>\n",
       "<table border=\"1\" class=\"dataframe\">\n",
       "  <thead>\n",
       "    <tr style=\"text-align: right;\">\n",
       "      <th></th>\n",
       "      <th>Title</th>\n",
       "      <th>Category</th>\n",
       "      <th>Source</th>\n",
       "    </tr>\n",
       "  </thead>\n",
       "  <tbody>\n",
       "    <tr>\n",
       "      <th>0</th>\n",
       "      <td>As Democrats try to hold on in November, it’s ...</td>\n",
       "      <td>Politics</td>\n",
       "      <td>CNN</td>\n",
       "    </tr>\n",
       "    <tr>\n",
       "      <th>1</th>\n",
       "      <td>A Dizzying week for Trump’s legal issues</td>\n",
       "      <td>Politics</td>\n",
       "      <td>CNN</td>\n",
       "    </tr>\n",
       "    <tr>\n",
       "      <th>2</th>\n",
       "      <td>Nancy Pelosi did what Donald Trump failed to d...</td>\n",
       "      <td>Politics</td>\n",
       "      <td>CNN</td>\n",
       "    </tr>\n",
       "    <tr>\n",
       "      <th>3</th>\n",
       "      <td>Donald Trump told us all *exactly* what he was...</td>\n",
       "      <td>Politics</td>\n",
       "      <td>CNN</td>\n",
       "    </tr>\n",
       "    <tr>\n",
       "      <th>4</th>\n",
       "      <td>See why Republicans are trying to get you to f...</td>\n",
       "      <td>Politics</td>\n",
       "      <td>CNN</td>\n",
       "    </tr>\n",
       "  </tbody>\n",
       "</table>\n",
       "</div>"
      ],
      "text/plain": [
       "                                               Title  Category Source\n",
       "0  As Democrats try to hold on in November, it’s ...  Politics    CNN\n",
       "1           A Dizzying week for Trump’s legal issues  Politics    CNN\n",
       "2  Nancy Pelosi did what Donald Trump failed to d...  Politics    CNN\n",
       "3  Donald Trump told us all *exactly* what he was...  Politics    CNN\n",
       "4  See why Republicans are trying to get you to f...  Politics    CNN"
      ]
     },
     "execution_count": 129,
     "metadata": {},
     "output_type": "execute_result"
    }
   ],
   "source": [
    "newsDataset = pd.read_csv('./ArticleTitlesCategoryDataset.csv')\n",
    "newsDataset.head()"
   ]
  },
  {
   "cell_type": "markdown",
   "metadata": {},
   "source": [
    "<p>Alright, the dataset is loaded successfully, now let's clean the data a bit. We'll do the following: </p>\n",
    "<ol>\n",
    "    <li> Turn all the contraction words into proper words (don't -> do not, I'd -> I would). </li>\n",
    "    <li> Remove all the punctuation from the title. </li>\n",
    "    <li> Tokenize the title. </li>\n",
    "</ol>"
   ]
  },
  {
   "cell_type": "code",
   "execution_count": 248,
   "metadata": {},
   "outputs": [
    {
     "data": {
      "text/plain": [
       "'Nancy Pelosi Donald Trump failed January 6'"
      ]
     },
     "execution_count": 248,
     "metadata": {},
     "output_type": "execute_result"
    }
   ],
   "source": [
    "EnglishStopwords = set(stopwords.words('english'))\n",
    "\n",
    "Titles = newsDataset['Title']\n",
    "CleanedTitles = []\n",
    "for title in Titles:\n",
    "    NoContractionsTitle = contractions.fix(title)\n",
    "    NoPunctuationTitle = NoContractionsTitle.translate(str.maketrans('','', string.punctuation)) \n",
    "    TokenizedTitle = word_tokenize(NoPunctuationTitle) \n",
    "    cleanTitle = []\n",
    "    for word in TokenizedTitle:\n",
    "        if word not in EnglishStopwords:\n",
    "            cleanTitle.append(word)\n",
    "    cleanTitle = \" \".join(cleanTitle)\n",
    "    \n",
    "    CleanedTitles.append(cleanTitle)\n"
   ]
  },
  {
   "cell_type": "markdown",
   "metadata": {},
   "source": [
    "<p>Now that we've removed the stopwords from our title column, we can go on and remove all punctuation as well. </p>"
   ]
  },
  {
   "cell_type": "code",
   "execution_count": null,
   "metadata": {},
   "outputs": [
    {
     "data": {
      "text/html": [
       "<div>\n",
       "<style scoped>\n",
       "    .dataframe tbody tr th:only-of-type {\n",
       "        vertical-align: middle;\n",
       "    }\n",
       "\n",
       "    .dataframe tbody tr th {\n",
       "        vertical-align: top;\n",
       "    }\n",
       "\n",
       "    .dataframe thead th {\n",
       "        text-align: right;\n",
       "    }\n",
       "</style>\n",
       "<table border=\"1\" class=\"dataframe\">\n",
       "  <thead>\n",
       "    <tr style=\"text-align: right;\">\n",
       "      <th></th>\n",
       "      <th>CleanTitle</th>\n",
       "      <th>Category</th>\n",
       "      <th>Source</th>\n",
       "    </tr>\n",
       "  </thead>\n",
       "  <tbody>\n",
       "    <tr>\n",
       "      <th>0</th>\n",
       "      <td>As Democrats try hold November, it’s Pete Butt...</td>\n",
       "      <td>Politics</td>\n",
       "      <td>CNN</td>\n",
       "    </tr>\n",
       "    <tr>\n",
       "      <th>1</th>\n",
       "      <td>A Dizzying week Trump’s legal issues</td>\n",
       "      <td>Politics</td>\n",
       "      <td>CNN</td>\n",
       "    </tr>\n",
       "    <tr>\n",
       "      <th>2</th>\n",
       "      <td>Nancy Pelosi Donald Trump failed January 6</td>\n",
       "      <td>Politics</td>\n",
       "      <td>CNN</td>\n",
       "    </tr>\n",
       "    <tr>\n",
       "      <th>3</th>\n",
       "      <td>Donald Trump told us *exactly* going November ...</td>\n",
       "      <td>Politics</td>\n",
       "      <td>CNN</td>\n",
       "    </tr>\n",
       "    <tr>\n",
       "      <th>4</th>\n",
       "      <td>See Republicans trying get focus 'wokeness'</td>\n",
       "      <td>Politics</td>\n",
       "      <td>CNN</td>\n",
       "    </tr>\n",
       "    <tr>\n",
       "      <th>...</th>\n",
       "      <td>...</td>\n",
       "      <td>...</td>\n",
       "      <td>...</td>\n",
       "    </tr>\n",
       "    <tr>\n",
       "      <th>84</th>\n",
       "      <td>Last chance lock nearly 10% return savings</td>\n",
       "      <td>Business</td>\n",
       "      <td>CNN</td>\n",
       "    </tr>\n",
       "    <tr>\n",
       "      <th>85</th>\n",
       "      <td>Workers second Apple store vote join union</td>\n",
       "      <td>Business</td>\n",
       "      <td>CNN</td>\n",
       "    </tr>\n",
       "    <tr>\n",
       "      <th>86</th>\n",
       "      <td>What old phones, gadgets e-waste</td>\n",
       "      <td>Business</td>\n",
       "      <td>CNN</td>\n",
       "    </tr>\n",
       "    <tr>\n",
       "      <th>87</th>\n",
       "      <td>Elon Musk federal investigation Twitter deal, ...</td>\n",
       "      <td>Business</td>\n",
       "      <td>CNN</td>\n",
       "    </tr>\n",
       "    <tr>\n",
       "      <th>88</th>\n",
       "      <td>FCC could ban new purchases Huawei ZTE telecom...</td>\n",
       "      <td>Business</td>\n",
       "      <td>CNN</td>\n",
       "    </tr>\n",
       "  </tbody>\n",
       "</table>\n",
       "<p>89 rows × 3 columns</p>\n",
       "</div>"
      ],
      "text/plain": [
       "                                           CleanTitle  Category Source\n",
       "0   As Democrats try hold November, it’s Pete Butt...  Politics    CNN\n",
       "1                A Dizzying week Trump’s legal issues  Politics    CNN\n",
       "2         Nancy Pelosi Donald Trump failed January 6   Politics    CNN\n",
       "3   Donald Trump told us *exactly* going November ...  Politics    CNN\n",
       "4         See Republicans trying get focus 'wokeness'  Politics    CNN\n",
       "..                                                ...       ...    ...\n",
       "84        Last chance lock nearly 10% return savings   Business    CNN\n",
       "85        Workers second Apple store vote join union   Business    CNN\n",
       "86                  What old phones, gadgets e-waste   Business    CNN\n",
       "87  Elon Musk federal investigation Twitter deal, ...  Business    CNN\n",
       "88  FCC could ban new purchases Huawei ZTE telecom...  Business    CNN\n",
       "\n",
       "[89 rows x 3 columns]"
      ]
     },
     "execution_count": 106,
     "metadata": {},
     "output_type": "execute_result"
    }
   ],
   "source": [
    "CleanedDataset = pd.DataFrame(columns=['CleanTitle', 'Category', 'Source'])\n",
    "CleanedDataset['CleanTitle'] = CleanedTitles\n",
    "CleanedDataset['Category'] = newsDataset['Category']\n",
    "CleanedDataset['Source'] = newsDataset['Source']\n",
    "\n",
    "CleanedDataset"
   ]
  },
  {
   "cell_type": "markdown",
   "metadata": {},
   "source": [
    "<p>Great ! We now have a clean titles dataset ! We can now proceed to the data analysis part!</p>"
   ]
  }
 ],
 "metadata": {
  "kernelspec": {
   "display_name": "Python 3.9.5 64-bit",
   "language": "python",
   "name": "python3"
  },
  "language_info": {
   "codemirror_mode": {
    "name": "ipython",
    "version": 3
   },
   "file_extension": ".py",
   "mimetype": "text/x-python",
   "name": "python",
   "nbconvert_exporter": "python",
   "pygments_lexer": "ipython3",
   "version": "3.9.5"
  },
  "orig_nbformat": 4,
  "vscode": {
   "interpreter": {
    "hash": "916dbcbb3f70747c44a77c7bcd40155683ae19c65e1c03b4aa3499c5328201f1"
   }
  }
 },
 "nbformat": 4,
 "nbformat_minor": 2
}
